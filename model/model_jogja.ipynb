{
  "cells": [
    {
      "cell_type": "markdown",
      "metadata": {
        "id": "J4BD0WfCMZxN"
      },
      "source": [
        "# Modeling Project Akhir Chatbot Info wisata Yogyakarta"
      ]
    },
    {
      "cell_type": "markdown",
      "metadata": {
        "id": "aPaNNjnkMZxQ"
      },
      "source": [
        "## Import Library"
      ]
    },
    {
      "cell_type": "code",
      "execution_count": 3,
      "metadata": {
        "id": "KxZfCrOpMZxR"
      },
      "outputs": [],
      "source": [
        "import warnings\n",
        "warnings.filterwarnings(\"ignore\")\n",
        "import nltk\n",
        "from nltk.stem import WordNetLemmatizer\n",
        "import json\n",
        "import pickle\n",
        "\n",
        "import numpy as np\n",
        "from tensorflow.keras.models import Sequential\n",
        "from tensorflow.keras.layers import Dense, Activation, Dropout\n",
        "from tensorflow.keras.optimizers import SGD\n",
        "import random\n",
        "from keras.models import load_model\n",
        "from tensorflow.keras.optimizers import legacy as keras_legacy"
      ]
    },
    {
      "cell_type": "code",
      "execution_count": 4,
      "metadata": {
        "id": "M0vAuT1mMZxT"
      },
      "outputs": [],
      "source": [
        "# Import file corpus untuk pre-prossesing\n",
        "\n",
        "words=[]\n",
        "classes = []\n",
        "documents = []\n",
        "ignore_words = ['?', '!']\n",
        "data_file = open(\"jogja.json\").read()\n",
        "intents = json.loads(data_file)"
      ]
    },
    {
      "cell_type": "markdown",
      "metadata": {
        "id": "-RS4uiOQMZxU"
      },
      "source": [
        "## Preprocessing data json"
      ]
    },
    {
      "cell_type": "markdown",
      "metadata": {
        "id": "YVs_Kq1KMZxV"
      },
      "source": [
        "### Tokenization\n",
        "\n",
        "Tokenization digunakan untuk membagi sampel besar teks atau kalimat menjadi kata-kata.\n",
        "\n",
        "Tujuan dari tokenization adalah untuk mempersiapkan data teks untuk analisis lebih lanjut dengan mengubah teks yang tidak terstruktur menjadi daftar token yang terstruktur. "
      ]
    },
    {
      "cell_type": "code",
      "execution_count": 5,
      "metadata": {
        "colab": {
          "base_uri": "https://localhost:8080/"
        },
        "id": "koD09PsIMZxV",
        "outputId": "418fcad1-fd8a-4d92-f8f4-bc6203949e2b"
      },
      "outputs": [
        {
          "name": "stderr",
          "output_type": "stream",
          "text": [
            "[nltk_data] Downloading package punkt to\n",
            "[nltk_data]     C:\\Users\\lenovo\\AppData\\Roaming\\nltk_data...\n",
            "[nltk_data]   Package punkt is already up-to-date!\n",
            "[nltk_data] Downloading package wordnet to\n",
            "[nltk_data]     C:\\Users\\lenovo\\AppData\\Roaming\\nltk_data...\n",
            "[nltk_data]   Package wordnet is already up-to-date!\n"
          ]
        }
      ],
      "source": [
        "nltk.download('punkt')\n",
        "nltk.download('wordnet')\n",
        "for intent in intents['intents']:\n",
        "    for pattern in intent['patterns']:\n",
        "\n",
        "        # Tokenize untuk setiap kata\n",
        "        w = nltk.word_tokenize(pattern)\n",
        "        words.extend(w)\n",
        "\n",
        "        # Menambah dokumen dalam corpus\n",
        "        documents.append((w, intent['tag']))\n",
        "\n",
        "        # Menambahkan ke daftar class\n",
        "        if intent['tag'] not in classes:\n",
        "            classes.append(intent['tag'])\n"
      ]
    },
    {
      "cell_type": "code",
      "execution_count": 6,
      "metadata": {
        "colab": {
          "base_uri": "https://localhost:8080/"
        },
        "id": "jUm_5W7BMZxW",
        "outputId": "f7b2eeac-680b-4706-96db-6ecaedd58443"
      },
      "outputs": [
        {
          "name": "stdout",
          "output_type": "stream",
          "text": [
            "Daftar Kata\n",
            "['Halo', 'Hai', 'hay', 'halo', 'Halo', ',', 'Apa', 'kabar', '?', 'Hai', ',', 'Apa', 'kabar', '?', 'Thanks', 'Thank', 'you', 'Matur', 'nuwun', 'makasih', 'Terimakasih', 'qsqdq', 'dssdss', 'Apa', 'itu', 'JogjaInfoBot', '?', 'JogjaInfoBot', 'aplikasi', 'JogjaInfoBot', 'Sampai', 'jumpa', 'Goodbye', 'Bye', 'Selamat', 'tinggal', 'Informasi', 'tentang', 'Yogyakarta', 'Daerah', 'Istimewa', 'Yogyakarta', 'jogja', 'Tempat', 'wisata', 'dengan', 'rating', 'tertinggi', 'Wisata', 'dengan', 'rating', 'terbaik', 'di', 'Yogyakarta', 'Tempat', 'wisata', 'terpopuler', 'di', 'Jogja', 'Rating', 'Berdasarkan', 'Rating', 'Destinasi', 'dengan', 'harga', '0', 'rupiah', 'gratis', 'di', 'Yogyakarta', 'Tempat', 'tanpa', 'biaya', 'di', 'Jogja', 'bebas', 'biaya', 'masuk', 'Tidak', 'dipungut', 'biaya', 'populer', 'di', 'jogja', 'rekomendasi', 'yogyakarta', 'Tempat', 'paling', 'populer', 'Populer', 'wisata', 'Candi', 'Prambanan', 'Candi', 'Prambanan', 'Yogyakarta', 'Sejarah', 'Candi', 'Prambanan', 'Destinasi', 'Candi', 'Prambanan', 'Keraton', 'Yogyakarta', 'Istana', 'Ngayogyakarta', 'Hadiningrat', 'Sejarah', 'Keraton', 'Yogyakarta', 'Destinasi', 'Keraton', 'Yogyakarta', 'Museum', 'Monumen', 'Yogya', 'Kembali', 'Monumen', 'Yogya', 'Kembali', 'Sejarah', 'Museum', 'Monumen', 'Yogya', 'Kembali', 'Destinasi', 'Museum', 'Monumen', 'Yogya', 'Kembali', 'wisata', 'alam', 'di', 'yogyakarta', 'alam', 'yogyakarta', 'apa', 'saja', 'wisata', 'alam', 'di', 'yogyakarta', 'Destinasi', 'wisata', 'alam', 'tempat', 'wisata', 'sejarah', 'di', 'yogyakarta', 'candi', 'yogyakarta', 'tempat', 'bersejarah', 'yogyakarta', 'sejarah', 'yogyakarta', 'tempat', 'wisata', 'budaya', 'yogyakarta', 'kesenian', 'yogyakarta', 'kesenian', 'tradisional', 'yogyakarta', 'seni', 'yogyakarta', 'budaya', 'budaya', 'yogyakarta', 'Pantai', 'Parangtritis', 'pasir', 'hitam', 'ombak', 'besar', 'batu', 'karang', 'Gunung', 'Merapi', 'Wisata', 'Gunung', 'Merapi', 'Pendakian', 'Gunung', 'Merapi', 'Goa', 'Jomblang', 'Goa', 'Jomblang', 'goa', 'caving', 'adventure', 'Candi', 'Borobudur', 'Borobudur', 'Peninggalan', 'sejarah', 'Wisata', 'sejarah', 'Taman', 'Sari', 'Water', 'Castle', 'tamansari', 'yogyakarta', 'keraton', 'tamansari', 'Malioboro', 'Jalan', 'Malioboro', 'Pasar', 'Malioboro', 'belanja', 'di', 'Jogja', 'pusat', 'kerajinan', 'Yogyakarta', 'Hutan', 'Pinus', 'Mangunan', 'Wisata', 'Hutan', 'Pinus', 'Mangunan', 'Pine', 'Forest', 'Mangunan', 'Museum', 'Ullen', 'Sentalu', 'museum', 'jogja', 'tempat', 'sejarah', 'Taman', 'Pintar', 'Yogyakarta', 'Taman', 'Pintar', 'Jogja', 'Science', 'Center', 'Yogyakarta', 'tempat', 'edukasi', 'tempat', 'belajar', 'anak', 'museum', 'sains', 'Goa', 'Pindul', 'goa', 'di', 'Yogyakarta', 'caving', 'adventure', 'Pantai', 'Indrayanti', 'Indrayanti', 'Beach', 'pantai', 'di', 'Yogyakarta', 'pantai', 'di', 'Gunung', 'Kidul', 'Pantai', 'Kukup', 'Pantai', 'Kukup', 'pantai', 'pantai', 'indah', 'Tebing', 'Breksi', 'Tebing', 'Breksi', 'tebing', 'tebing', 'breksi', 'Taman', 'Nasional', 'Kalibiru', 'Kalibiru', 'Kalibiru', 'taman', 'nasional', 'hutan', 'Kalibiru', 'Kaliadem', 'gunung', 'merapi', 'kaliadem', 'Kaliadem', 'perkebunan', 'Kaliadem', 'lahar', 'dingin', 'Kaliadem', 'Bukit', 'Kali', 'Kuning', 'bukit', 'kali', 'kuning', 'yogyakarta', 'wisata', 'alam', 'bukit', 'kali', 'kuning', 'view', 'sunrise', 'bukit', 'kali', 'kuning', 'Hutan', 'Mangrove', 'Kulon', 'Progo', 'kulon', 'progo', 'mangrove', 'wisata', 'alam', 'hutan', 'mangrove', 'hutan', 'bakau', 'kulon', 'progo', 'Air', 'Terjun', 'Kedung', 'Pedut', 'Kedung', 'Pedut', 'wisata', 'alam', 'Kedung', 'Pedut', 'air', 'terjun', 'di', 'Kulon', 'Progo', 'Air', 'Terjun', 'Kedung', 'Pedut', 'Kulon', 'Progo', 'Embung', 'Ngelanggeran', 'Wisata', 'Embung', 'Ngelanggeran', 'embung', 'embung', 'ngelanggeran', 'Gumuk', 'Pasir', 'Wisata', 'Gumuk', 'Pasir', 'Gumuk', 'Pasir', 'Yogyakarta', 'gumuk', 'HeHa', 'Ocean', 'View', 'Wisata', 'HeHa', 'Ocean', 'View', 'heha', 'heha', 'ocean', 'view', 'Puncak', 'Segoro', 'Wisata', 'Puncak', 'Segoro', 'puncak', 'puncak', 'segoro', 'Bisa', 'bantu', '?', 'Saya', 'butuh', 'bantuan', 'Bantu', 'saya', 'Tolong', 'bantu']\n",
            "\n",
            "Daftar dokument\n",
            "[(['Halo'], 'salam'), (['Hai'], 'salam'), (['hay'], 'salam'), (['halo'], 'salam'), (['Halo', ',', 'Apa', 'kabar', '?'], 'salam'), (['Hai', ',', 'Apa', 'kabar', '?'], 'salam'), (['Thanks'], 'thanks'), (['Thank', 'you'], 'thanks'), (['Matur', 'nuwun'], 'thanks'), (['makasih'], 'thanks'), (['Terimakasih'], 'thanks'), (['qsqdq'], 'broken'), (['dssdss'], 'broken'), (['Apa', 'itu', 'JogjaInfoBot', '?'], 'JogjaInfoBot'), (['JogjaInfoBot'], 'JogjaInfoBot'), (['aplikasi', 'JogjaInfoBot'], 'JogjaInfoBot'), (['Sampai', 'jumpa'], 'goodbye'), (['Goodbye'], 'goodbye'), (['Bye'], 'goodbye'), (['Selamat', 'tinggal'], 'goodbye'), (['Informasi', 'tentang', 'Yogyakarta'], 'informasi'), (['Daerah', 'Istimewa', 'Yogyakarta'], 'informasi'), (['jogja'], 'informasi'), (['Tempat', 'wisata', 'dengan', 'rating', 'tertinggi'], 'tempat_rating_tertinggi'), (['Wisata', 'dengan', 'rating', 'terbaik', 'di', 'Yogyakarta'], 'tempat_rating_tertinggi'), (['Tempat', 'wisata', 'terpopuler', 'di', 'Jogja'], 'tempat_rating_tertinggi'), (['Rating'], 'tempat_rating_tertinggi'), (['Berdasarkan', 'Rating'], 'tempat_rating_tertinggi'), (['Destinasi', 'dengan', 'harga', '0', 'rupiah'], 'harga_gratis'), (['gratis', 'di', 'Yogyakarta'], 'harga_gratis'), (['Tempat', 'tanpa', 'biaya', 'di', 'Jogja'], 'harga_gratis'), (['bebas', 'biaya', 'masuk'], 'harga_gratis'), (['Tidak', 'dipungut', 'biaya'], 'harga_gratis'), (['populer', 'di', 'jogja'], 'populer'), (['rekomendasi', 'yogyakarta'], 'populer'), (['Tempat', 'paling', 'populer'], 'populer'), (['Populer', 'wisata'], 'populer'), (['Candi', 'Prambanan'], 'candi prambanan'), (['Candi', 'Prambanan', 'Yogyakarta'], 'candi prambanan'), (['Sejarah', 'Candi', 'Prambanan'], 'candi prambanan'), (['Destinasi', 'Candi', 'Prambanan'], 'candi prambanan'), (['Keraton', 'Yogyakarta'], 'keraton yogyakarta'), (['Istana', 'Ngayogyakarta', 'Hadiningrat'], 'keraton yogyakarta'), (['Sejarah', 'Keraton', 'Yogyakarta'], 'keraton yogyakarta'), (['Destinasi', 'Keraton', 'Yogyakarta'], 'keraton yogyakarta'), (['Museum', 'Monumen', 'Yogya', 'Kembali'], 'museum monumen yogya kembali'), (['Monumen', 'Yogya', 'Kembali'], 'museum monumen yogya kembali'), (['Sejarah', 'Museum', 'Monumen', 'Yogya', 'Kembali'], 'museum monumen yogya kembali'), (['Destinasi', 'Museum', 'Monumen', 'Yogya', 'Kembali'], 'museum monumen yogya kembali'), (['wisata', 'alam', 'di', 'yogyakarta'], 'wisata alam'), (['alam', 'yogyakarta'], 'wisata alam'), (['apa', 'saja', 'wisata', 'alam', 'di', 'yogyakarta'], 'wisata alam'), (['Destinasi', 'wisata', 'alam'], 'wisata alam'), (['tempat', 'wisata', 'sejarah', 'di', 'yogyakarta'], 'wisata sejarah'), (['candi', 'yogyakarta'], 'wisata sejarah'), (['tempat', 'bersejarah', 'yogyakarta'], 'wisata sejarah'), (['sejarah', 'yogyakarta'], 'wisata sejarah'), (['tempat', 'wisata', 'budaya', 'yogyakarta'], 'budaya'), (['kesenian', 'yogyakarta'], 'budaya'), (['kesenian', 'tradisional', 'yogyakarta'], 'budaya'), (['seni', 'yogyakarta'], 'budaya'), (['budaya'], 'budaya'), (['budaya', 'yogyakarta'], 'budaya'), (['Pantai', 'Parangtritis'], 'parangtritis'), (['pasir', 'hitam'], 'parangtritis'), (['ombak', 'besar'], 'parangtritis'), (['batu', 'karang'], 'parangtritis'), (['Gunung', 'Merapi'], 'Gunung Merapi'), (['Wisata', 'Gunung', 'Merapi'], 'Gunung Merapi'), (['Pendakian', 'Gunung', 'Merapi'], 'Gunung Merapi'), (['Goa', 'Jomblang'], 'Goa Jomblang'), (['Goa', 'Jomblang'], 'Goa Jomblang'), (['goa'], 'Goa Jomblang'), (['caving', 'adventure'], 'Goa Jomblang'), (['Candi', 'Borobudur'], 'Candi Borobudur'), (['Borobudur'], 'Candi Borobudur'), (['Peninggalan', 'sejarah'], 'Candi Borobudur'), (['Wisata', 'sejarah'], 'Candi Borobudur'), (['Taman', 'Sari'], 'Taman Sari'), (['Water', 'Castle'], 'Taman Sari'), (['tamansari', 'yogyakarta'], 'Taman Sari'), (['keraton', 'tamansari'], 'Taman Sari'), (['Malioboro'], 'Malioboro'), (['Jalan', 'Malioboro'], 'Malioboro'), (['Pasar', 'Malioboro'], 'Malioboro'), (['belanja', 'di', 'Jogja'], 'Malioboro'), (['pusat', 'kerajinan', 'Yogyakarta'], 'Malioboro'), (['Hutan', 'Pinus', 'Mangunan'], 'Hutan Pinus Mangunan'), (['Wisata', 'Hutan', 'Pinus', 'Mangunan'], 'Hutan Pinus Mangunan'), (['Pine', 'Forest', 'Mangunan'], 'Hutan Pinus Mangunan'), (['Museum', 'Ullen', 'Sentalu'], 'Museum Ullen Sentalu'), (['museum', 'jogja'], 'Museum Ullen Sentalu'), (['tempat', 'sejarah'], 'Museum Ullen Sentalu'), (['Taman', 'Pintar', 'Yogyakarta'], 'Taman Pintar Yogyakarta'), (['Taman', 'Pintar', 'Jogja'], 'Taman Pintar Yogyakarta'), (['Science', 'Center', 'Yogyakarta'], 'Taman Pintar Yogyakarta'), (['tempat', 'edukasi'], 'Taman Pintar Yogyakarta'), (['tempat', 'belajar', 'anak'], 'Taman Pintar Yogyakarta'), (['museum', 'sains'], 'Taman Pintar Yogyakarta'), (['Goa', 'Pindul'], 'Goa Pindul'), (['goa', 'di', 'Yogyakarta'], 'Goa Pindul'), (['caving', 'adventure'], 'Goa Pindul'), (['Pantai', 'Indrayanti'], 'Pantai Indrayanti'), (['Indrayanti', 'Beach'], 'Pantai Indrayanti'), (['pantai', 'di', 'Yogyakarta'], 'Pantai Indrayanti'), (['pantai', 'di', 'Gunung', 'Kidul'], 'Pantai Indrayanti'), (['Pantai', 'Kukup'], 'Pantai Kukup'), (['Pantai', 'Kukup'], 'Pantai Kukup'), (['pantai'], 'Pantai Kukup'), (['pantai', 'indah'], 'Pantai Kukup'), (['Tebing', 'Breksi'], 'Tebing Breksi'), (['Tebing', 'Breksi'], 'Tebing Breksi'), (['tebing'], 'Tebing Breksi'), (['tebing', 'breksi'], 'Tebing Breksi'), (['Taman', 'Nasional', 'Kalibiru'], 'Taman Nasional Kalibiru'), (['Kalibiru'], 'Taman Nasional Kalibiru'), (['Kalibiru'], 'Taman Nasional Kalibiru'), (['taman', 'nasional'], 'Taman Nasional Kalibiru'), (['hutan', 'Kalibiru'], 'Taman Nasional Kalibiru'), (['Kaliadem'], 'Kaliadem'), (['gunung', 'merapi', 'kaliadem'], 'Kaliadem'), (['Kaliadem'], 'Kaliadem'), (['perkebunan', 'Kaliadem'], 'Kaliadem'), (['lahar', 'dingin', 'Kaliadem'], 'Kaliadem'), (['Bukit', 'Kali', 'Kuning'], 'Bukit Kali Kuning'), (['bukit', 'kali', 'kuning', 'yogyakarta'], 'Bukit Kali Kuning'), (['wisata', 'alam', 'bukit', 'kali', 'kuning'], 'Bukit Kali Kuning'), (['view', 'sunrise', 'bukit', 'kali', 'kuning'], 'Bukit Kali Kuning'), (['Hutan', 'Mangrove', 'Kulon', 'Progo'], 'Hutan Mangrove Kulon Progo'), (['kulon', 'progo', 'mangrove'], 'Hutan Mangrove Kulon Progo'), (['wisata', 'alam', 'hutan', 'mangrove'], 'Hutan Mangrove Kulon Progo'), (['hutan', 'bakau', 'kulon', 'progo'], 'Hutan Mangrove Kulon Progo'), (['Air', 'Terjun', 'Kedung', 'Pedut'], 'Air Terjun Kedung Pedut'), (['Kedung', 'Pedut'], 'Air Terjun Kedung Pedut'), (['wisata', 'alam', 'Kedung', 'Pedut'], 'Air Terjun Kedung Pedut'), (['air', 'terjun', 'di', 'Kulon', 'Progo'], 'Air Terjun Kedung Pedut'), (['Air', 'Terjun', 'Kedung', 'Pedut', 'Kulon', 'Progo'], 'Air Terjun Kedung Pedut'), (['Embung', 'Ngelanggeran'], 'Embung Ngelanggeran'), (['Wisata', 'Embung', 'Ngelanggeran'], 'Embung Ngelanggeran'), (['embung'], 'Embung Ngelanggeran'), (['embung', 'ngelanggeran'], 'Embung Ngelanggeran'), (['Gumuk', 'Pasir'], 'Gumuk Pasir'), (['Wisata', 'Gumuk', 'Pasir'], 'Gumuk Pasir'), (['Gumuk', 'Pasir', 'Yogyakarta'], 'Gumuk Pasir'), (['gumuk'], 'Gumuk Pasir'), (['HeHa', 'Ocean', 'View'], 'HeHa Ocean View'), (['Wisata', 'HeHa', 'Ocean', 'View'], 'HeHa Ocean View'), (['heha'], 'HeHa Ocean View'), (['heha', 'ocean', 'view'], 'HeHa Ocean View'), (['Puncak', 'Segoro'], 'Puncak Segoro'), (['Wisata', 'Puncak', 'Segoro'], 'Puncak Segoro'), (['puncak'], 'Puncak Segoro'), (['puncak', 'segoro'], 'Puncak Segoro'), (['Bisa', 'bantu', '?'], 'bantuan'), (['Saya', 'butuh', 'bantuan'], 'bantuan'), (['Bantu', 'saya'], 'bantuan'), (['Tolong', 'bantu'], 'bantuan')]\n",
            "\n",
            "Daftar class\n",
            "['salam', 'thanks', 'broken', 'JogjaInfoBot', 'goodbye', 'informasi', 'tempat_rating_tertinggi', 'harga_gratis', 'populer', 'candi prambanan', 'keraton yogyakarta', 'museum monumen yogya kembali', 'wisata alam', 'wisata sejarah', 'budaya', 'parangtritis', 'Gunung Merapi', 'Goa Jomblang', 'Candi Borobudur', 'Taman Sari', 'Malioboro', 'Hutan Pinus Mangunan', 'Museum Ullen Sentalu', 'Taman Pintar Yogyakarta', 'Goa Pindul', 'Pantai Indrayanti', 'Pantai Kukup', 'Tebing Breksi', 'Taman Nasional Kalibiru', 'Kaliadem', 'Bukit Kali Kuning', 'Hutan Mangrove Kulon Progo', 'Air Terjun Kedung Pedut', 'Embung Ngelanggeran', 'Gumuk Pasir', 'HeHa Ocean View', 'Puncak Segoro', 'bantuan']\n"
          ]
        }
      ],
      "source": [
        "# Hasil tokenization \n",
        "\n",
        "print('Daftar Kata')\n",
        "print(words)\n",
        "print()\n",
        "print('Daftar dokument')\n",
        "print(documents)\n",
        "print()\n",
        "print('Daftar class')\n",
        "print(classes)\n"
      ]
    },
    {
      "cell_type": "markdown",
      "metadata": {
        "id": "9odpv-MPMZxX"
      },
      "source": [
        "### Lemmatization\n",
        "\n",
        "Lemmatization adalah proses mengubah kata ke bentuk dasarnya (lemma) dengan menghapus infleksi kata seperti awalan, akhiran, dan imbuhan sehingga menghasilkan kata dasar yang lebih baku dan terstandardisasi.\n",
        "\n",
        "Tujuan dari lemmatization adalah untuk membuat perbandingan kata-kata menjadi lebih mudah dan akurat, serta menghindari duplikasi kata yang berbeda bentuk."
      ]
    },
    {
      "cell_type": "code",
      "execution_count": 7,
      "metadata": {
        "colab": {
          "base_uri": "https://localhost:8080/"
        },
        "id": "h4Ly27tqMZxX",
        "outputId": "6ca79976-46c9-42d3-e972-a258cd32c837"
      },
      "outputs": [
        {
          "name": "stdout",
          "output_type": "stream",
          "text": [
            "Jumlah Dokumen\n",
            "157 Dokumen Yaitu  [(['Halo'], 'salam'), (['Hai'], 'salam'), (['hay'], 'salam'), (['halo'], 'salam'), (['Halo', ',', 'Apa', 'kabar', '?'], 'salam'), (['Hai', ',', 'Apa', 'kabar', '?'], 'salam'), (['Thanks'], 'thanks'), (['Thank', 'you'], 'thanks'), (['Matur', 'nuwun'], 'thanks'), (['makasih'], 'thanks'), (['Terimakasih'], 'thanks'), (['qsqdq'], 'broken'), (['dssdss'], 'broken'), (['Apa', 'itu', 'JogjaInfoBot', '?'], 'JogjaInfoBot'), (['JogjaInfoBot'], 'JogjaInfoBot'), (['aplikasi', 'JogjaInfoBot'], 'JogjaInfoBot'), (['Sampai', 'jumpa'], 'goodbye'), (['Goodbye'], 'goodbye'), (['Bye'], 'goodbye'), (['Selamat', 'tinggal'], 'goodbye'), (['Informasi', 'tentang', 'Yogyakarta'], 'informasi'), (['Daerah', 'Istimewa', 'Yogyakarta'], 'informasi'), (['jogja'], 'informasi'), (['Tempat', 'wisata', 'dengan', 'rating', 'tertinggi'], 'tempat_rating_tertinggi'), (['Wisata', 'dengan', 'rating', 'terbaik', 'di', 'Yogyakarta'], 'tempat_rating_tertinggi'), (['Tempat', 'wisata', 'terpopuler', 'di', 'Jogja'], 'tempat_rating_tertinggi'), (['Rating'], 'tempat_rating_tertinggi'), (['Berdasarkan', 'Rating'], 'tempat_rating_tertinggi'), (['Destinasi', 'dengan', 'harga', '0', 'rupiah'], 'harga_gratis'), (['gratis', 'di', 'Yogyakarta'], 'harga_gratis'), (['Tempat', 'tanpa', 'biaya', 'di', 'Jogja'], 'harga_gratis'), (['bebas', 'biaya', 'masuk'], 'harga_gratis'), (['Tidak', 'dipungut', 'biaya'], 'harga_gratis'), (['populer', 'di', 'jogja'], 'populer'), (['rekomendasi', 'yogyakarta'], 'populer'), (['Tempat', 'paling', 'populer'], 'populer'), (['Populer', 'wisata'], 'populer'), (['Candi', 'Prambanan'], 'candi prambanan'), (['Candi', 'Prambanan', 'Yogyakarta'], 'candi prambanan'), (['Sejarah', 'Candi', 'Prambanan'], 'candi prambanan'), (['Destinasi', 'Candi', 'Prambanan'], 'candi prambanan'), (['Keraton', 'Yogyakarta'], 'keraton yogyakarta'), (['Istana', 'Ngayogyakarta', 'Hadiningrat'], 'keraton yogyakarta'), (['Sejarah', 'Keraton', 'Yogyakarta'], 'keraton yogyakarta'), (['Destinasi', 'Keraton', 'Yogyakarta'], 'keraton yogyakarta'), (['Museum', 'Monumen', 'Yogya', 'Kembali'], 'museum monumen yogya kembali'), (['Monumen', 'Yogya', 'Kembali'], 'museum monumen yogya kembali'), (['Sejarah', 'Museum', 'Monumen', 'Yogya', 'Kembali'], 'museum monumen yogya kembali'), (['Destinasi', 'Museum', 'Monumen', 'Yogya', 'Kembali'], 'museum monumen yogya kembali'), (['wisata', 'alam', 'di', 'yogyakarta'], 'wisata alam'), (['alam', 'yogyakarta'], 'wisata alam'), (['apa', 'saja', 'wisata', 'alam', 'di', 'yogyakarta'], 'wisata alam'), (['Destinasi', 'wisata', 'alam'], 'wisata alam'), (['tempat', 'wisata', 'sejarah', 'di', 'yogyakarta'], 'wisata sejarah'), (['candi', 'yogyakarta'], 'wisata sejarah'), (['tempat', 'bersejarah', 'yogyakarta'], 'wisata sejarah'), (['sejarah', 'yogyakarta'], 'wisata sejarah'), (['tempat', 'wisata', 'budaya', 'yogyakarta'], 'budaya'), (['kesenian', 'yogyakarta'], 'budaya'), (['kesenian', 'tradisional', 'yogyakarta'], 'budaya'), (['seni', 'yogyakarta'], 'budaya'), (['budaya'], 'budaya'), (['budaya', 'yogyakarta'], 'budaya'), (['Pantai', 'Parangtritis'], 'parangtritis'), (['pasir', 'hitam'], 'parangtritis'), (['ombak', 'besar'], 'parangtritis'), (['batu', 'karang'], 'parangtritis'), (['Gunung', 'Merapi'], 'Gunung Merapi'), (['Wisata', 'Gunung', 'Merapi'], 'Gunung Merapi'), (['Pendakian', 'Gunung', 'Merapi'], 'Gunung Merapi'), (['Goa', 'Jomblang'], 'Goa Jomblang'), (['Goa', 'Jomblang'], 'Goa Jomblang'), (['goa'], 'Goa Jomblang'), (['caving', 'adventure'], 'Goa Jomblang'), (['Candi', 'Borobudur'], 'Candi Borobudur'), (['Borobudur'], 'Candi Borobudur'), (['Peninggalan', 'sejarah'], 'Candi Borobudur'), (['Wisata', 'sejarah'], 'Candi Borobudur'), (['Taman', 'Sari'], 'Taman Sari'), (['Water', 'Castle'], 'Taman Sari'), (['tamansari', 'yogyakarta'], 'Taman Sari'), (['keraton', 'tamansari'], 'Taman Sari'), (['Malioboro'], 'Malioboro'), (['Jalan', 'Malioboro'], 'Malioboro'), (['Pasar', 'Malioboro'], 'Malioboro'), (['belanja', 'di', 'Jogja'], 'Malioboro'), (['pusat', 'kerajinan', 'Yogyakarta'], 'Malioboro'), (['Hutan', 'Pinus', 'Mangunan'], 'Hutan Pinus Mangunan'), (['Wisata', 'Hutan', 'Pinus', 'Mangunan'], 'Hutan Pinus Mangunan'), (['Pine', 'Forest', 'Mangunan'], 'Hutan Pinus Mangunan'), (['Museum', 'Ullen', 'Sentalu'], 'Museum Ullen Sentalu'), (['museum', 'jogja'], 'Museum Ullen Sentalu'), (['tempat', 'sejarah'], 'Museum Ullen Sentalu'), (['Taman', 'Pintar', 'Yogyakarta'], 'Taman Pintar Yogyakarta'), (['Taman', 'Pintar', 'Jogja'], 'Taman Pintar Yogyakarta'), (['Science', 'Center', 'Yogyakarta'], 'Taman Pintar Yogyakarta'), (['tempat', 'edukasi'], 'Taman Pintar Yogyakarta'), (['tempat', 'belajar', 'anak'], 'Taman Pintar Yogyakarta'), (['museum', 'sains'], 'Taman Pintar Yogyakarta'), (['Goa', 'Pindul'], 'Goa Pindul'), (['goa', 'di', 'Yogyakarta'], 'Goa Pindul'), (['caving', 'adventure'], 'Goa Pindul'), (['Pantai', 'Indrayanti'], 'Pantai Indrayanti'), (['Indrayanti', 'Beach'], 'Pantai Indrayanti'), (['pantai', 'di', 'Yogyakarta'], 'Pantai Indrayanti'), (['pantai', 'di', 'Gunung', 'Kidul'], 'Pantai Indrayanti'), (['Pantai', 'Kukup'], 'Pantai Kukup'), (['Pantai', 'Kukup'], 'Pantai Kukup'), (['pantai'], 'Pantai Kukup'), (['pantai', 'indah'], 'Pantai Kukup'), (['Tebing', 'Breksi'], 'Tebing Breksi'), (['Tebing', 'Breksi'], 'Tebing Breksi'), (['tebing'], 'Tebing Breksi'), (['tebing', 'breksi'], 'Tebing Breksi'), (['Taman', 'Nasional', 'Kalibiru'], 'Taman Nasional Kalibiru'), (['Kalibiru'], 'Taman Nasional Kalibiru'), (['Kalibiru'], 'Taman Nasional Kalibiru'), (['taman', 'nasional'], 'Taman Nasional Kalibiru'), (['hutan', 'Kalibiru'], 'Taman Nasional Kalibiru'), (['Kaliadem'], 'Kaliadem'), (['gunung', 'merapi', 'kaliadem'], 'Kaliadem'), (['Kaliadem'], 'Kaliadem'), (['perkebunan', 'Kaliadem'], 'Kaliadem'), (['lahar', 'dingin', 'Kaliadem'], 'Kaliadem'), (['Bukit', 'Kali', 'Kuning'], 'Bukit Kali Kuning'), (['bukit', 'kali', 'kuning', 'yogyakarta'], 'Bukit Kali Kuning'), (['wisata', 'alam', 'bukit', 'kali', 'kuning'], 'Bukit Kali Kuning'), (['view', 'sunrise', 'bukit', 'kali', 'kuning'], 'Bukit Kali Kuning'), (['Hutan', 'Mangrove', 'Kulon', 'Progo'], 'Hutan Mangrove Kulon Progo'), (['kulon', 'progo', 'mangrove'], 'Hutan Mangrove Kulon Progo'), (['wisata', 'alam', 'hutan', 'mangrove'], 'Hutan Mangrove Kulon Progo'), (['hutan', 'bakau', 'kulon', 'progo'], 'Hutan Mangrove Kulon Progo'), (['Air', 'Terjun', 'Kedung', 'Pedut'], 'Air Terjun Kedung Pedut'), (['Kedung', 'Pedut'], 'Air Terjun Kedung Pedut'), (['wisata', 'alam', 'Kedung', 'Pedut'], 'Air Terjun Kedung Pedut'), (['air', 'terjun', 'di', 'Kulon', 'Progo'], 'Air Terjun Kedung Pedut'), (['Air', 'Terjun', 'Kedung', 'Pedut', 'Kulon', 'Progo'], 'Air Terjun Kedung Pedut'), (['Embung', 'Ngelanggeran'], 'Embung Ngelanggeran'), (['Wisata', 'Embung', 'Ngelanggeran'], 'Embung Ngelanggeran'), (['embung'], 'Embung Ngelanggeran'), (['embung', 'ngelanggeran'], 'Embung Ngelanggeran'), (['Gumuk', 'Pasir'], 'Gumuk Pasir'), (['Wisata', 'Gumuk', 'Pasir'], 'Gumuk Pasir'), (['Gumuk', 'Pasir', 'Yogyakarta'], 'Gumuk Pasir'), (['gumuk'], 'Gumuk Pasir'), (['HeHa', 'Ocean', 'View'], 'HeHa Ocean View'), (['Wisata', 'HeHa', 'Ocean', 'View'], 'HeHa Ocean View'), (['heha'], 'HeHa Ocean View'), (['heha', 'ocean', 'view'], 'HeHa Ocean View'), (['Puncak', 'Segoro'], 'Puncak Segoro'), (['Wisata', 'Puncak', 'Segoro'], 'Puncak Segoro'), (['puncak'], 'Puncak Segoro'), (['puncak', 'segoro'], 'Puncak Segoro'), (['Bisa', 'bantu', '?'], 'bantuan'), (['Saya', 'butuh', 'bantuan'], 'bantuan'), (['Bantu', 'saya'], 'bantuan'), (['Tolong', 'bantu'], 'bantuan')]\n",
            "\n",
            "Jumlah kelas\n",
            "38 kelas Yaitu  ['Air Terjun Kedung Pedut', 'Bukit Kali Kuning', 'Candi Borobudur', 'Embung Ngelanggeran', 'Goa Jomblang', 'Goa Pindul', 'Gumuk Pasir', 'Gunung Merapi', 'HeHa Ocean View', 'Hutan Mangrove Kulon Progo', 'Hutan Pinus Mangunan', 'JogjaInfoBot', 'Kaliadem', 'Malioboro', 'Museum Ullen Sentalu', 'Pantai Indrayanti', 'Pantai Kukup', 'Puncak Segoro', 'Taman Nasional Kalibiru', 'Taman Pintar Yogyakarta', 'Taman Sari', 'Tebing Breksi', 'bantuan', 'broken', 'budaya', 'candi prambanan', 'goodbye', 'harga_gratis', 'informasi', 'keraton yogyakarta', 'museum monumen yogya kembali', 'parangtritis', 'populer', 'salam', 'tempat_rating_tertinggi', 'thanks', 'wisata alam', 'wisata sejarah']\n",
            "\n",
            "Jumlah kata unik\n",
            "153 Kata Unik Yaitu [',', '0', 'adventure', 'air', 'alam', 'anak', 'apa', 'aplikasi', 'bakau', 'bantu', 'bantuan', 'batu', 'beach', 'bebas', 'belajar', 'belanja', 'berdasarkan', 'bersejarah', 'besar', 'biaya', 'bisa', 'borobudur', 'breksi', 'budaya', 'bukit', 'butuh', 'bye', 'candi', 'castle', 'caving', 'center', 'daerah', 'dengan', 'destinasi', 'di', 'dingin', 'dipungut', 'dssdss', 'edukasi', 'embung', 'forest', 'goa', 'goodbye', 'gratis', 'gumuk', 'gunung', 'hadiningrat', 'hai', 'halo', 'harga', 'hay', 'heha', 'hitam', 'hutan', 'indah', 'indrayanti', 'informasi', 'istana', 'istimewa', 'itu', 'jalan', 'jogja', 'jogjainfobot', 'jomblang', 'jumpa', 'kabar', 'kali', 'kaliadem', 'kalibiru', 'karang', 'kedung', 'kembali', 'kerajinan', 'keraton', 'kesenian', 'kidul', 'kukup', 'kulon', 'kuning', 'lahar', 'makasih', 'malioboro', 'mangrove', 'mangunan', 'masuk', 'matur', 'merapi', 'monumen', 'museum', 'nasional', 'ngayogyakarta', 'ngelanggeran', 'nuwun', 'ocean', 'ombak', 'paling', 'pantai', 'parangtritis', 'pasar', 'pasir', 'pedut', 'pendakian', 'peninggalan', 'perkebunan', 'pindul', 'pine', 'pintar', 'pinus', 'populer', 'prambanan', 'progo', 'puncak', 'pusat', 'qsqdq', 'rating', 'rekomendasi', 'rupiah', 'sains', 'saja', 'sampai', 'sari', 'saya', 'science', 'segoro', 'sejarah', 'selamat', 'seni', 'sentalu', 'sunrise', 'taman', 'tamansari', 'tanpa', 'tebing', 'tempat', 'tentang', 'terbaik', 'terimakasih', 'terjun', 'terpopuler', 'tertinggi', 'thank', 'thanks', 'tidak', 'tinggal', 'tolong', 'tradisional', 'ullen', 'view', 'water', 'wisata', 'yogya', 'yogyakarta', 'you']\n"
          ]
        }
      ],
      "source": [
        "# Merubah kata menjadi huruf kecil semua dan menghapus kata double (duplikat)\n",
        "\n",
        "lemmatizer = WordNetLemmatizer()\n",
        "words = [lemmatizer.lemmatize(w.lower()) for w in words if w not in ignore_words]\n",
        "words = sorted(list(set(words)))\n",
        "\n",
        "# sort classes\n",
        "classes = sorted(list(set(classes)))\n",
        "\n",
        "# Banyak Dokumen (pattern dan intents)\n",
        "print('Jumlah Dokumen')\n",
        "print(len(documents), 'Dokumen Yaitu ', documents)\n",
        "print()\n",
        "\n",
        "# Banyak kelas (intents)\n",
        "print('Jumlah kelas')\n",
        "print(len(classes), 'kelas Yaitu ', classes)\n",
        "print()\n",
        "\n",
        "# Banyak kata unik \n",
        "print('Jumlah kata unik')\n",
        "print(len(words), 'Kata Unik Yaitu', words)\n",
        "\n",
        "# Membuat file pickle\n",
        "pickle.dump(words,open('words.pkl','wb')) \n",
        "pickle.dump(classes,open('classes.pkl','wb'))\n"
      ]
    },
    {
      "cell_type": "markdown",
      "metadata": {
        "id": "mBccJ22wMZxY"
      },
      "source": [
        "# Training Data"
      ]
    },
    {
      "cell_type": "code",
      "execution_count": 8,
      "metadata": {
        "colab": {
          "base_uri": "https://localhost:8080/"
        },
        "id": "WdfnSy-_MZxY",
        "outputId": "7081c692-8a3b-43d9-8ef3-bfa0489021bd"
      },
      "outputs": [
        {
          "name": "stdout",
          "output_type": "stream",
          "text": [
            "Training data created\n"
          ]
        }
      ],
      "source": [
        "# Inisialisasi data Training\n",
        "training = []\n",
        "\n",
        "# Buat array kosong untuk output\n",
        "output_empty = [0] * len(classes)\n",
        "\n",
        "# Training set, bag of word untuk setiap kalimat\n",
        "for doc in documents:\n",
        "    # Inisialisasi bagg  of words\n",
        "    bag =[]\n",
        "    # mengambil token-token (kata-kata) dari suatu dokumen \n",
        "    pattern_words = doc[0]\n",
        "    # melakukan lemmatization pada setiap kata \n",
        "    pattern_words = [lemmatizer.lemmatize(word.lower()) for word in pattern_words]\n",
        "    #  membuat \"bag of words\" dari suatu dokumen yang direpresentasikan dalam variabel \"pattern_words\"\n",
        "    for w in words:\n",
        "        bag.append(1) if w in pattern_words else bag.append(0)\n",
        "    #  menentukan output atau label dari dokumen\n",
        "    output_row = list(output_empty)\n",
        "    output_row[classes.index(doc[1])] = 1\n",
        "    training.append([bag, output_row])\n",
        "\n",
        "# melakukan pengacakan urutan data dalam list \"training\" dengan menggunakan fungsi \"random.shuffle\"\n",
        "random.shuffle(training)\n",
        "training = np.array(training)\n",
        "\n",
        "# Membuat list training dan testing\n",
        "train_x = list(training[:,0])\n",
        "train_y = list(training[:,1])\n",
        "\n",
        "print(\"Training data created\")"
      ]
    },
    {
      "attachments": {},
      "cell_type": "markdown",
      "metadata": {
        "id": "2MHxKlJyMZxZ"
      },
      "source": [
        "# Membuat Model\n",
        "Membuat Model menggunakan Artificial Neural Network (ANN) dengan tipe Sequential. Pada model ini menggunakan satu input layer, satu hidden layer, output layer, dan dua dropout layer. Dimana pada layer pertama dan kedua menggunakan Relu dan layer terakhir menggunakan softmax."
      ]
    },
    {
      "cell_type": "code",
      "execution_count": 9,
      "metadata": {
        "colab": {
          "base_uri": "https://localhost:8080/"
        },
        "id": "OwS9aW9nMZxZ",
        "outputId": "ba8b03f0-189b-4c74-bf14-aeae01ec20b9"
      },
      "outputs": [
        {
          "name": "stdout",
          "output_type": "stream",
          "text": [
            "Model: \"sequential\"\n",
            "_________________________________________________________________\n",
            " Layer (type)                Output Shape              Param #   \n",
            "=================================================================\n",
            " dense (Dense)               (None, 128)               19712     \n",
            "                                                                 \n",
            " dropout (Dropout)           (None, 128)               0         \n",
            "                                                                 \n",
            " dense_1 (Dense)             (None, 64)                8256      \n",
            "                                                                 \n",
            " dropout_1 (Dropout)         (None, 64)                0         \n",
            "                                                                 \n",
            " dense_2 (Dense)             (None, 38)                2470      \n",
            "                                                                 \n",
            "=================================================================\n",
            "Total params: 30,438\n",
            "Trainable params: 30,438\n",
            "Non-trainable params: 0\n",
            "_________________________________________________________________\n"
          ]
        }
      ],
      "source": [
        "# Membuat Sequential Neural Network Model untuk memprediksi respon\n",
        "model = Sequential()\n",
        "model.add(Dense(128, input_shape=(len(train_x[0]),), activation='relu'))\n",
        "model.add(Dropout(0.5))\n",
        "model.add(Dense(64, activation='relu'))\n",
        "model.add(Dropout(0.5))\n",
        "model.add(Dense(len(train_y[0]), activation='softmax'))\n",
        "\n",
        "model.summary()"
      ]
    },
    {
      "cell_type": "code",
      "execution_count": 10,
      "metadata": {
        "id": "lUacBlPjMZxZ"
      },
      "outputs": [],
      "source": [
        "# Compile model menggunakan optimizer Stochastic Gradient Descent (SGD) dengan Nesterov Accelerated Gradient.\n",
        "sgd = keras_legacy.SGD(lr=0.01, decay=1e-6, momentum=0.9, nesterov=True)\n",
        "model.compile(loss='categorical_crossentropy', optimizer=sgd, metrics=['accuracy'])"
      ]
    },
    {
      "cell_type": "code",
      "execution_count": 11,
      "metadata": {
        "colab": {
          "base_uri": "https://localhost:8080/"
        },
        "id": "U_BT7Z_sMZxa",
        "outputId": "f64554c2-7520-443a-b61e-d23b9fbcf13d"
      },
      "outputs": [
        {
          "name": "stdout",
          "output_type": "stream",
          "text": [
            "Epoch 1/200\n",
            "32/32 [==============================] - 1s 2ms/step - loss: 3.6650 - accuracy: 0.0127\n",
            "Epoch 2/200\n",
            "32/32 [==============================] - 0s 3ms/step - loss: 3.5858 - accuracy: 0.0637\n",
            "Epoch 3/200\n",
            "32/32 [==============================] - 0s 3ms/step - loss: 3.5348 - accuracy: 0.0892\n",
            "Epoch 4/200\n",
            "32/32 [==============================] - 0s 2ms/step - loss: 3.5325 - accuracy: 0.0637\n",
            "Epoch 5/200\n",
            "32/32 [==============================] - 0s 4ms/step - loss: 3.4394 - accuracy: 0.1401\n",
            "Epoch 6/200\n",
            "32/32 [==============================] - 0s 4ms/step - loss: 3.3291 - accuracy: 0.1975\n",
            "Epoch 7/200\n",
            "32/32 [==============================] - 0s 3ms/step - loss: 3.2587 - accuracy: 0.1911\n",
            "Epoch 8/200\n",
            "32/32 [==============================] - 0s 2ms/step - loss: 3.1088 - accuracy: 0.2166\n",
            "Epoch 9/200\n",
            "32/32 [==============================] - 0s 2ms/step - loss: 2.9951 - accuracy: 0.2548\n",
            "Epoch 10/200\n",
            "32/32 [==============================] - 0s 2ms/step - loss: 2.8346 - accuracy: 0.3248\n",
            "Epoch 11/200\n",
            "32/32 [==============================] - 0s 2ms/step - loss: 2.6916 - accuracy: 0.2930\n",
            "Epoch 12/200\n",
            "32/32 [==============================] - 0s 2ms/step - loss: 2.4944 - accuracy: 0.3503\n",
            "Epoch 13/200\n",
            "32/32 [==============================] - 0s 2ms/step - loss: 2.4037 - accuracy: 0.3503\n",
            "Epoch 14/200\n",
            "32/32 [==============================] - 0s 2ms/step - loss: 2.3111 - accuracy: 0.3885\n",
            "Epoch 15/200\n",
            "32/32 [==============================] - 0s 2ms/step - loss: 2.1817 - accuracy: 0.4395\n",
            "Epoch 16/200\n",
            "32/32 [==============================] - 0s 2ms/step - loss: 1.9341 - accuracy: 0.5159\n",
            "Epoch 17/200\n",
            "32/32 [==============================] - 0s 2ms/step - loss: 1.8758 - accuracy: 0.5541\n",
            "Epoch 18/200\n",
            "32/32 [==============================] - 0s 2ms/step - loss: 1.6434 - accuracy: 0.5541\n",
            "Epoch 19/200\n",
            "32/32 [==============================] - 0s 2ms/step - loss: 1.6647 - accuracy: 0.4968\n",
            "Epoch 20/200\n",
            "32/32 [==============================] - 0s 2ms/step - loss: 1.3857 - accuracy: 0.6115\n",
            "Epoch 21/200\n",
            "32/32 [==============================] - 0s 2ms/step - loss: 1.5145 - accuracy: 0.6115\n",
            "Epoch 22/200\n",
            "32/32 [==============================] - 0s 2ms/step - loss: 1.3429 - accuracy: 0.6561\n",
            "Epoch 23/200\n",
            "32/32 [==============================] - 0s 2ms/step - loss: 1.2991 - accuracy: 0.6433\n",
            "Epoch 24/200\n",
            "32/32 [==============================] - 0s 2ms/step - loss: 1.3327 - accuracy: 0.6369\n",
            "Epoch 25/200\n",
            "32/32 [==============================] - 0s 2ms/step - loss: 1.2059 - accuracy: 0.6879\n",
            "Epoch 26/200\n",
            "32/32 [==============================] - 0s 2ms/step - loss: 0.8828 - accuracy: 0.7834\n",
            "Epoch 27/200\n",
            "32/32 [==============================] - 0s 2ms/step - loss: 1.1385 - accuracy: 0.6561\n",
            "Epoch 28/200\n",
            "32/32 [==============================] - 0s 2ms/step - loss: 0.9847 - accuracy: 0.6879\n",
            "Epoch 29/200\n",
            "32/32 [==============================] - 0s 2ms/step - loss: 1.0461 - accuracy: 0.7070\n",
            "Epoch 30/200\n",
            "32/32 [==============================] - 0s 2ms/step - loss: 0.8209 - accuracy: 0.7580\n",
            "Epoch 31/200\n",
            "32/32 [==============================] - 0s 2ms/step - loss: 0.8928 - accuracy: 0.7197\n",
            "Epoch 32/200\n",
            "32/32 [==============================] - 0s 2ms/step - loss: 0.8169 - accuracy: 0.7580\n",
            "Epoch 33/200\n",
            "32/32 [==============================] - 0s 2ms/step - loss: 0.7649 - accuracy: 0.7834\n",
            "Epoch 34/200\n",
            "32/32 [==============================] - 0s 2ms/step - loss: 0.6141 - accuracy: 0.8217\n",
            "Epoch 35/200\n",
            "32/32 [==============================] - 0s 2ms/step - loss: 0.6815 - accuracy: 0.8344\n",
            "Epoch 36/200\n",
            "32/32 [==============================] - 0s 2ms/step - loss: 0.5518 - accuracy: 0.8662\n",
            "Epoch 37/200\n",
            "32/32 [==============================] - 0s 2ms/step - loss: 0.6361 - accuracy: 0.8217\n",
            "Epoch 38/200\n",
            "32/32 [==============================] - 0s 2ms/step - loss: 0.6889 - accuracy: 0.8344\n",
            "Epoch 39/200\n",
            "32/32 [==============================] - 0s 2ms/step - loss: 0.4722 - accuracy: 0.8471\n",
            "Epoch 40/200\n",
            "32/32 [==============================] - 0s 2ms/step - loss: 0.6406 - accuracy: 0.7962\n",
            "Epoch 41/200\n",
            "32/32 [==============================] - 0s 2ms/step - loss: 0.6325 - accuracy: 0.7898\n",
            "Epoch 42/200\n",
            "32/32 [==============================] - 0s 2ms/step - loss: 0.5702 - accuracy: 0.8280\n",
            "Epoch 43/200\n",
            "32/32 [==============================] - 0s 2ms/step - loss: 0.5162 - accuracy: 0.8790\n",
            "Epoch 44/200\n",
            "32/32 [==============================] - 0s 2ms/step - loss: 0.5939 - accuracy: 0.8217\n",
            "Epoch 45/200\n",
            "32/32 [==============================] - 0s 2ms/step - loss: 0.5643 - accuracy: 0.8280\n",
            "Epoch 46/200\n",
            "32/32 [==============================] - 0s 2ms/step - loss: 0.5240 - accuracy: 0.8280\n",
            "Epoch 47/200\n",
            "32/32 [==============================] - 0s 2ms/step - loss: 0.4566 - accuracy: 0.8535\n",
            "Epoch 48/200\n",
            "32/32 [==============================] - 0s 2ms/step - loss: 0.5701 - accuracy: 0.7898\n",
            "Epoch 49/200\n",
            "32/32 [==============================] - 0s 2ms/step - loss: 0.4875 - accuracy: 0.8662\n",
            "Epoch 50/200\n",
            "32/32 [==============================] - 0s 2ms/step - loss: 0.4830 - accuracy: 0.8535\n",
            "Epoch 51/200\n",
            "32/32 [==============================] - 0s 2ms/step - loss: 0.3780 - accuracy: 0.9172\n",
            "Epoch 52/200\n",
            "32/32 [==============================] - 0s 3ms/step - loss: 0.4029 - accuracy: 0.8662\n",
            "Epoch 53/200\n",
            "32/32 [==============================] - 0s 3ms/step - loss: 0.3777 - accuracy: 0.8790\n",
            "Epoch 54/200\n",
            "32/32 [==============================] - 0s 2ms/step - loss: 0.4712 - accuracy: 0.8726\n",
            "Epoch 55/200\n",
            "32/32 [==============================] - 0s 2ms/step - loss: 0.5137 - accuracy: 0.8344\n",
            "Epoch 56/200\n",
            "32/32 [==============================] - 0s 2ms/step - loss: 0.4745 - accuracy: 0.8726\n",
            "Epoch 57/200\n",
            "32/32 [==============================] - 0s 2ms/step - loss: 0.3673 - accuracy: 0.8790\n",
            "Epoch 58/200\n",
            "32/32 [==============================] - 0s 4ms/step - loss: 0.3366 - accuracy: 0.9236\n",
            "Epoch 59/200\n",
            "32/32 [==============================] - 0s 2ms/step - loss: 0.3406 - accuracy: 0.9172\n",
            "Epoch 60/200\n",
            "32/32 [==============================] - 0s 2ms/step - loss: 0.2538 - accuracy: 0.9236\n",
            "Epoch 61/200\n",
            "32/32 [==============================] - 0s 2ms/step - loss: 0.3277 - accuracy: 0.8726\n",
            "Epoch 62/200\n",
            "32/32 [==============================] - 0s 2ms/step - loss: 0.3364 - accuracy: 0.8854\n",
            "Epoch 63/200\n",
            "32/32 [==============================] - 0s 2ms/step - loss: 0.4325 - accuracy: 0.8535\n",
            "Epoch 64/200\n",
            "32/32 [==============================] - 0s 2ms/step - loss: 0.3694 - accuracy: 0.9045\n",
            "Epoch 65/200\n",
            "32/32 [==============================] - 0s 2ms/step - loss: 0.2684 - accuracy: 0.9299\n",
            "Epoch 66/200\n",
            "32/32 [==============================] - 0s 2ms/step - loss: 0.2990 - accuracy: 0.8790\n",
            "Epoch 67/200\n",
            "32/32 [==============================] - 0s 3ms/step - loss: 0.3245 - accuracy: 0.9108\n",
            "Epoch 68/200\n",
            "32/32 [==============================] - 0s 3ms/step - loss: 0.2306 - accuracy: 0.9299\n",
            "Epoch 69/200\n",
            "32/32 [==============================] - 0s 2ms/step - loss: 0.3140 - accuracy: 0.8981\n",
            "Epoch 70/200\n",
            "32/32 [==============================] - 0s 3ms/step - loss: 0.2572 - accuracy: 0.9490\n",
            "Epoch 71/200\n",
            "32/32 [==============================] - 0s 2ms/step - loss: 0.2503 - accuracy: 0.9108\n",
            "Epoch 72/200\n",
            "32/32 [==============================] - 0s 2ms/step - loss: 0.3255 - accuracy: 0.8917\n",
            "Epoch 73/200\n",
            "32/32 [==============================] - 0s 2ms/step - loss: 0.2786 - accuracy: 0.9172\n",
            "Epoch 74/200\n",
            "32/32 [==============================] - 0s 2ms/step - loss: 0.3087 - accuracy: 0.9172\n",
            "Epoch 75/200\n",
            "32/32 [==============================] - 0s 3ms/step - loss: 0.3182 - accuracy: 0.9045\n",
            "Epoch 76/200\n",
            "32/32 [==============================] - 0s 3ms/step - loss: 0.3077 - accuracy: 0.9172\n",
            "Epoch 77/200\n",
            "32/32 [==============================] - 0s 2ms/step - loss: 0.2999 - accuracy: 0.8917\n",
            "Epoch 78/200\n",
            "32/32 [==============================] - 0s 2ms/step - loss: 0.2441 - accuracy: 0.9172\n",
            "Epoch 79/200\n",
            "32/32 [==============================] - 0s 2ms/step - loss: 0.2939 - accuracy: 0.9045\n",
            "Epoch 80/200\n",
            "32/32 [==============================] - 0s 2ms/step - loss: 0.2815 - accuracy: 0.9236\n",
            "Epoch 81/200\n",
            "32/32 [==============================] - 0s 2ms/step - loss: 0.3918 - accuracy: 0.8917\n",
            "Epoch 82/200\n",
            "32/32 [==============================] - 0s 2ms/step - loss: 0.2751 - accuracy: 0.9363\n",
            "Epoch 83/200\n",
            "32/32 [==============================] - 0s 2ms/step - loss: 0.2236 - accuracy: 0.9554\n",
            "Epoch 84/200\n",
            "32/32 [==============================] - 0s 2ms/step - loss: 0.2668 - accuracy: 0.9363\n",
            "Epoch 85/200\n",
            "32/32 [==============================] - 0s 2ms/step - loss: 0.1981 - accuracy: 0.9427\n",
            "Epoch 86/200\n",
            "32/32 [==============================] - 0s 2ms/step - loss: 0.2781 - accuracy: 0.8981\n",
            "Epoch 87/200\n",
            "32/32 [==============================] - 0s 2ms/step - loss: 0.2158 - accuracy: 0.9172\n",
            "Epoch 88/200\n",
            "32/32 [==============================] - 0s 2ms/step - loss: 0.2014 - accuracy: 0.9618\n",
            "Epoch 89/200\n",
            "32/32 [==============================] - 0s 2ms/step - loss: 0.1953 - accuracy: 0.9490\n",
            "Epoch 90/200\n",
            "32/32 [==============================] - 0s 2ms/step - loss: 0.2359 - accuracy: 0.9108\n",
            "Epoch 91/200\n",
            "32/32 [==============================] - 0s 2ms/step - loss: 0.2447 - accuracy: 0.9363\n",
            "Epoch 92/200\n",
            "32/32 [==============================] - 0s 2ms/step - loss: 0.3124 - accuracy: 0.8917\n",
            "Epoch 93/200\n",
            "32/32 [==============================] - 0s 2ms/step - loss: 0.2738 - accuracy: 0.8981\n",
            "Epoch 94/200\n",
            "32/32 [==============================] - 0s 2ms/step - loss: 0.2079 - accuracy: 0.9490\n",
            "Epoch 95/200\n",
            "32/32 [==============================] - 0s 2ms/step - loss: 0.1965 - accuracy: 0.9427\n",
            "Epoch 96/200\n",
            "32/32 [==============================] - 0s 2ms/step - loss: 0.1625 - accuracy: 0.9363\n",
            "Epoch 97/200\n",
            "32/32 [==============================] - 0s 2ms/step - loss: 0.2154 - accuracy: 0.9299\n",
            "Epoch 98/200\n",
            "32/32 [==============================] - 0s 2ms/step - loss: 0.2346 - accuracy: 0.9490\n",
            "Epoch 99/200\n",
            "32/32 [==============================] - 0s 2ms/step - loss: 0.2765 - accuracy: 0.9172\n",
            "Epoch 100/200\n",
            "32/32 [==============================] - 0s 2ms/step - loss: 0.2377 - accuracy: 0.9045\n",
            "Epoch 101/200\n",
            "32/32 [==============================] - 0s 2ms/step - loss: 0.2333 - accuracy: 0.9236\n",
            "Epoch 102/200\n",
            "32/32 [==============================] - 0s 2ms/step - loss: 0.2212 - accuracy: 0.9427\n",
            "Epoch 103/200\n",
            "32/32 [==============================] - 0s 2ms/step - loss: 0.2886 - accuracy: 0.9172\n",
            "Epoch 104/200\n",
            "32/32 [==============================] - 0s 2ms/step - loss: 0.1412 - accuracy: 0.9682\n",
            "Epoch 105/200\n",
            "32/32 [==============================] - 0s 2ms/step - loss: 0.2176 - accuracy: 0.9236\n",
            "Epoch 106/200\n",
            "32/32 [==============================] - 0s 2ms/step - loss: 0.1805 - accuracy: 0.9554\n",
            "Epoch 107/200\n",
            "32/32 [==============================] - 0s 2ms/step - loss: 0.2107 - accuracy: 0.9172\n",
            "Epoch 108/200\n",
            "32/32 [==============================] - 0s 2ms/step - loss: 0.1825 - accuracy: 0.9427\n",
            "Epoch 109/200\n",
            "32/32 [==============================] - 0s 2ms/step - loss: 0.1538 - accuracy: 0.9554\n",
            "Epoch 110/200\n",
            "32/32 [==============================] - 0s 5ms/step - loss: 0.1905 - accuracy: 0.9363\n",
            "Epoch 111/200\n",
            "32/32 [==============================] - 0s 3ms/step - loss: 0.1649 - accuracy: 0.9427\n",
            "Epoch 112/200\n",
            "32/32 [==============================] - 0s 2ms/step - loss: 0.2084 - accuracy: 0.9236\n",
            "Epoch 113/200\n",
            "32/32 [==============================] - 0s 2ms/step - loss: 0.2022 - accuracy: 0.9045\n",
            "Epoch 114/200\n",
            "32/32 [==============================] - 0s 2ms/step - loss: 0.1849 - accuracy: 0.9554\n",
            "Epoch 115/200\n",
            "32/32 [==============================] - 0s 3ms/step - loss: 0.1962 - accuracy: 0.9363\n",
            "Epoch 116/200\n",
            "32/32 [==============================] - 0s 3ms/step - loss: 0.1532 - accuracy: 0.9554\n",
            "Epoch 117/200\n",
            "32/32 [==============================] - 0s 2ms/step - loss: 0.1486 - accuracy: 0.9363\n",
            "Epoch 118/200\n",
            "32/32 [==============================] - 0s 2ms/step - loss: 0.2430 - accuracy: 0.9299\n",
            "Epoch 119/200\n",
            "32/32 [==============================] - 0s 2ms/step - loss: 0.1804 - accuracy: 0.9618\n",
            "Epoch 120/200\n",
            "32/32 [==============================] - 0s 2ms/step - loss: 0.2131 - accuracy: 0.9299\n",
            "Epoch 121/200\n",
            "32/32 [==============================] - 0s 2ms/step - loss: 0.1555 - accuracy: 0.9427\n",
            "Epoch 122/200\n",
            "32/32 [==============================] - 0s 2ms/step - loss: 0.1508 - accuracy: 0.9427\n",
            "Epoch 123/200\n",
            "32/32 [==============================] - 0s 3ms/step - loss: 0.1988 - accuracy: 0.9299\n",
            "Epoch 124/200\n",
            "32/32 [==============================] - 0s 3ms/step - loss: 0.2038 - accuracy: 0.9299\n",
            "Epoch 125/200\n",
            "32/32 [==============================] - 0s 3ms/step - loss: 0.1309 - accuracy: 0.9554\n",
            "Epoch 126/200\n",
            "32/32 [==============================] - 0s 2ms/step - loss: 0.2083 - accuracy: 0.9363\n",
            "Epoch 127/200\n",
            "32/32 [==============================] - 0s 2ms/step - loss: 0.1780 - accuracy: 0.9299\n",
            "Epoch 128/200\n",
            "32/32 [==============================] - 0s 2ms/step - loss: 0.2370 - accuracy: 0.9363\n",
            "Epoch 129/200\n",
            "32/32 [==============================] - 0s 2ms/step - loss: 0.1957 - accuracy: 0.9172\n",
            "Epoch 130/200\n",
            "32/32 [==============================] - 0s 2ms/step - loss: 0.1803 - accuracy: 0.9554\n",
            "Epoch 131/200\n",
            "32/32 [==============================] - 0s 3ms/step - loss: 0.1504 - accuracy: 0.9682\n",
            "Epoch 132/200\n",
            "32/32 [==============================] - 0s 3ms/step - loss: 0.1820 - accuracy: 0.9363\n",
            "Epoch 133/200\n",
            "32/32 [==============================] - 0s 2ms/step - loss: 0.1132 - accuracy: 0.9490\n",
            "Epoch 134/200\n",
            "32/32 [==============================] - 0s 2ms/step - loss: 0.1279 - accuracy: 0.9554\n",
            "Epoch 135/200\n",
            "32/32 [==============================] - 0s 3ms/step - loss: 0.1476 - accuracy: 0.9554\n",
            "Epoch 136/200\n",
            "32/32 [==============================] - 0s 3ms/step - loss: 0.2263 - accuracy: 0.9299\n",
            "Epoch 137/200\n",
            "32/32 [==============================] - 0s 2ms/step - loss: 0.1752 - accuracy: 0.9363\n",
            "Epoch 138/200\n",
            "32/32 [==============================] - 0s 2ms/step - loss: 0.2145 - accuracy: 0.9236\n",
            "Epoch 139/200\n",
            "32/32 [==============================] - 0s 2ms/step - loss: 0.2275 - accuracy: 0.9172\n",
            "Epoch 140/200\n",
            "32/32 [==============================] - 0s 2ms/step - loss: 0.1476 - accuracy: 0.9682\n",
            "Epoch 141/200\n",
            "32/32 [==============================] - 0s 2ms/step - loss: 0.1368 - accuracy: 0.9618\n",
            "Epoch 142/200\n",
            "32/32 [==============================] - 0s 2ms/step - loss: 0.1615 - accuracy: 0.9490\n",
            "Epoch 143/200\n",
            "32/32 [==============================] - 0s 2ms/step - loss: 0.1220 - accuracy: 0.9809\n",
            "Epoch 144/200\n",
            "32/32 [==============================] - 0s 2ms/step - loss: 0.2810 - accuracy: 0.8917\n",
            "Epoch 145/200\n",
            "32/32 [==============================] - 0s 4ms/step - loss: 0.2188 - accuracy: 0.9618\n",
            "Epoch 146/200\n",
            "32/32 [==============================] - 0s 2ms/step - loss: 0.1885 - accuracy: 0.9427\n",
            "Epoch 147/200\n",
            "32/32 [==============================] - 0s 2ms/step - loss: 0.1876 - accuracy: 0.9618\n",
            "Epoch 148/200\n",
            "32/32 [==============================] - 0s 2ms/step - loss: 0.2264 - accuracy: 0.9363\n",
            "Epoch 149/200\n",
            "32/32 [==============================] - 0s 2ms/step - loss: 0.1204 - accuracy: 0.9745\n",
            "Epoch 150/200\n",
            "32/32 [==============================] - 0s 2ms/step - loss: 0.1066 - accuracy: 0.9745\n",
            "Epoch 151/200\n",
            "32/32 [==============================] - 0s 2ms/step - loss: 0.1560 - accuracy: 0.9554\n",
            "Epoch 152/200\n",
            "32/32 [==============================] - 0s 2ms/step - loss: 0.0975 - accuracy: 0.9745\n",
            "Epoch 153/200\n",
            "32/32 [==============================] - 0s 2ms/step - loss: 0.1092 - accuracy: 0.9554\n",
            "Epoch 154/200\n",
            "32/32 [==============================] - 0s 2ms/step - loss: 0.1477 - accuracy: 0.9236\n",
            "Epoch 155/200\n",
            "32/32 [==============================] - 0s 3ms/step - loss: 0.0965 - accuracy: 0.9682\n",
            "Epoch 156/200\n",
            "32/32 [==============================] - 0s 2ms/step - loss: 0.1477 - accuracy: 0.9554\n",
            "Epoch 157/200\n",
            "32/32 [==============================] - 0s 3ms/step - loss: 0.1323 - accuracy: 0.9490\n",
            "Epoch 158/200\n",
            "32/32 [==============================] - 0s 3ms/step - loss: 0.1656 - accuracy: 0.9363\n",
            "Epoch 159/200\n",
            "32/32 [==============================] - 0s 2ms/step - loss: 0.2526 - accuracy: 0.9363\n",
            "Epoch 160/200\n",
            "32/32 [==============================] - 0s 3ms/step - loss: 0.2512 - accuracy: 0.9172\n",
            "Epoch 161/200\n",
            "32/32 [==============================] - 0s 2ms/step - loss: 0.1574 - accuracy: 0.9427\n",
            "Epoch 162/200\n",
            "32/32 [==============================] - 0s 2ms/step - loss: 0.1888 - accuracy: 0.9490\n",
            "Epoch 163/200\n",
            "32/32 [==============================] - 0s 3ms/step - loss: 0.2238 - accuracy: 0.9299\n",
            "Epoch 164/200\n",
            "32/32 [==============================] - 0s 2ms/step - loss: 0.2145 - accuracy: 0.9299\n",
            "Epoch 165/200\n",
            "32/32 [==============================] - 0s 3ms/step - loss: 0.0923 - accuracy: 0.9809\n",
            "Epoch 166/200\n",
            "32/32 [==============================] - 0s 3ms/step - loss: 0.0891 - accuracy: 0.9745\n",
            "Epoch 167/200\n",
            "32/32 [==============================] - 0s 3ms/step - loss: 0.1344 - accuracy: 0.9554\n",
            "Epoch 168/200\n",
            "32/32 [==============================] - 0s 3ms/step - loss: 0.1191 - accuracy: 0.9682\n",
            "Epoch 169/200\n",
            "32/32 [==============================] - 0s 3ms/step - loss: 0.1841 - accuracy: 0.9554\n",
            "Epoch 170/200\n",
            "32/32 [==============================] - 0s 3ms/step - loss: 0.1296 - accuracy: 0.9618\n",
            "Epoch 171/200\n",
            "32/32 [==============================] - 0s 3ms/step - loss: 0.2083 - accuracy: 0.9172\n",
            "Epoch 172/200\n",
            "32/32 [==============================] - 0s 3ms/step - loss: 0.1454 - accuracy: 0.9490\n",
            "Epoch 173/200\n",
            "32/32 [==============================] - 0s 3ms/step - loss: 0.1526 - accuracy: 0.9363\n",
            "Epoch 174/200\n",
            "32/32 [==============================] - 0s 3ms/step - loss: 0.2124 - accuracy: 0.9554\n",
            "Epoch 175/200\n",
            "32/32 [==============================] - 0s 5ms/step - loss: 0.1824 - accuracy: 0.9299\n",
            "Epoch 176/200\n",
            "32/32 [==============================] - 0s 3ms/step - loss: 0.1205 - accuracy: 0.9682\n",
            "Epoch 177/200\n",
            "32/32 [==============================] - 0s 2ms/step - loss: 0.1858 - accuracy: 0.9427\n",
            "Epoch 178/200\n",
            "32/32 [==============================] - 0s 3ms/step - loss: 0.1269 - accuracy: 0.9682\n",
            "Epoch 179/200\n",
            "32/32 [==============================] - 0s 3ms/step - loss: 0.1055 - accuracy: 0.9809\n",
            "Epoch 180/200\n",
            "32/32 [==============================] - 0s 2ms/step - loss: 0.1054 - accuracy: 0.9682\n",
            "Epoch 181/200\n",
            "32/32 [==============================] - 0s 2ms/step - loss: 0.1330 - accuracy: 0.9554\n",
            "Epoch 182/200\n",
            "32/32 [==============================] - 0s 2ms/step - loss: 0.1220 - accuracy: 0.9682\n",
            "Epoch 183/200\n",
            "32/32 [==============================] - 0s 2ms/step - loss: 0.1557 - accuracy: 0.9427\n",
            "Epoch 184/200\n",
            "32/32 [==============================] - 0s 3ms/step - loss: 0.2024 - accuracy: 0.9427\n",
            "Epoch 185/200\n",
            "32/32 [==============================] - 0s 2ms/step - loss: 0.1072 - accuracy: 0.9745\n",
            "Epoch 186/200\n",
            "32/32 [==============================] - 0s 2ms/step - loss: 0.1452 - accuracy: 0.9363\n",
            "Epoch 187/200\n",
            "32/32 [==============================] - 0s 2ms/step - loss: 0.1123 - accuracy: 0.9618\n",
            "Epoch 188/200\n",
            "32/32 [==============================] - 0s 3ms/step - loss: 0.1494 - accuracy: 0.9554\n",
            "Epoch 189/200\n",
            "32/32 [==============================] - 0s 3ms/step - loss: 0.1131 - accuracy: 0.9554\n",
            "Epoch 190/200\n",
            "32/32 [==============================] - 0s 3ms/step - loss: 0.1501 - accuracy: 0.9618\n",
            "Epoch 191/200\n",
            "32/32 [==============================] - 0s 3ms/step - loss: 0.1097 - accuracy: 0.9682\n",
            "Epoch 192/200\n",
            "32/32 [==============================] - 0s 3ms/step - loss: 0.1408 - accuracy: 0.9618\n",
            "Epoch 193/200\n",
            "32/32 [==============================] - 0s 3ms/step - loss: 0.1467 - accuracy: 0.9554\n",
            "Epoch 194/200\n",
            "32/32 [==============================] - 0s 3ms/step - loss: 0.1398 - accuracy: 0.9554\n",
            "Epoch 195/200\n",
            "32/32 [==============================] - 0s 3ms/step - loss: 0.1333 - accuracy: 0.9490\n",
            "Epoch 196/200\n",
            "32/32 [==============================] - 0s 3ms/step - loss: 0.0924 - accuracy: 0.9682\n",
            "Epoch 197/200\n",
            "32/32 [==============================] - 0s 3ms/step - loss: 0.0716 - accuracy: 0.9682\n",
            "Epoch 198/200\n",
            "32/32 [==============================] - 0s 3ms/step - loss: 0.0589 - accuracy: 0.9873\n",
            "Epoch 199/200\n",
            "32/32 [==============================] - 0s 3ms/step - loss: 0.1173 - accuracy: 0.9490\n",
            "Epoch 200/200\n",
            "32/32 [==============================] - 0s 3ms/step - loss: 0.1383 - accuracy: 0.9490\n",
            "\n",
            " --------------------\n",
            "\n",
            "Model Berhasil dibuat!\n"
          ]
        }
      ],
      "source": [
        "# Fitting dan save model\n",
        "hist = model.fit(np.array(train_x), np.array(train_y), epochs=200, batch_size=5, verbose=1)\n",
        "model.save('chatbot.h5', hist)\n",
        "print('\\n', '-'*20)\n",
        "print('\\nModel Berhasil dibuat!')\n"
      ]
    },
    {
      "cell_type": "code",
      "execution_count": 12,
      "metadata": {
        "colab": {
          "base_uri": "https://localhost:8080/"
        },
        "id": "39sljcs6MZxa",
        "outputId": "4490ee5f-3362-4863-ac0c-65a98fecf66d"
      },
      "outputs": [
        {
          "name": "stdout",
          "output_type": "stream",
          "text": [
            "5/5 [==============================] - 0s 4ms/step - loss: 0.0093 - accuracy: 0.9936\n",
            "Loss: 0.00934774149209261, Accuracy: 0.993630588054657\n"
          ]
        }
      ],
      "source": [
        "# Evaluasi hasil model\n",
        "loss, accuracy = model.evaluate(train_x, train_y)\n",
        "print(f\"Loss: {loss}, Accuracy: {accuracy}\")\n"
      ]
    },
    {
      "cell_type": "code",
      "execution_count": 13,
      "metadata": {
        "colab": {
          "base_uri": "https://localhost:8080/",
          "height": 927
        },
        "id": "E3zunvn5MZxa",
        "outputId": "136bc783-56f7-4b53-daf3-def2723adef8"
      },
      "outputs": [
        {
          "data": {
            "image/png": "[encoded data removed]",
            "text/plain": [
              "<Figure size 640x480 with 1 Axes>"
            ]
          },
          "metadata": {},
          "output_type": "display_data"
        },
        {
          "data": {
            "image/png": "[encoded data removed]",
            "text/plain": [
              "<Figure size 640x480 with 1 Axes>"
            ]
          },
          "metadata": {},
          "output_type": "display_data"
        }
      ],
      "source": [
        "import matplotlib.pyplot as plt\n",
        "\n",
        "# Plot riwayat loss\n",
        "plt.plot(hist.history['loss'])\n",
        "plt.title('Model Loss')\n",
        "plt.xlabel('Epoch')\n",
        "plt.ylabel('Loss')\n",
        "plt.show()\n",
        "\n",
        "# Plot riwayat akurasi\n",
        "plt.plot(hist.history['accuracy'])\n",
        "plt.title('Model Accuracy')\n",
        "plt.xlabel('Epoch')\n",
        "plt.ylabel('Accuracy')\n",
        "plt.show()\n"
      ]
    },
    {
      "attachments": {},
      "cell_type": "markdown",
      "metadata": {},
      "source": [
        "# Membuat fungsi input chat, pra-proses input, prediksi kelas, dan respons chat"
      ]
    },
    {
      "cell_type": "code",
      "execution_count": 14,
      "metadata": {
        "id": "FpN74XD9iN60"
      },
      "outputs": [],
      "source": [
        "# Meload data model, intents, words dan classes  \n",
        "model = load_model('chatbot.h5')\n",
        "intents = json.loads(open(\"jogja.json\").read())\n",
        "words = pickle.load(open('words.pkl','rb'))\n",
        "classes = pickle.load(open('classes.pkl','rb'))"
      ]
    },
    {
      "cell_type": "code",
      "execution_count": 15,
      "metadata": {
        "id": "NFbaWzbHMZxa"
      },
      "outputs": [],
      "source": [
        "#  Clean up kalimat atau input pengguna\n",
        "def clean_up_sentence(sentence):\n",
        "    # tokenisasi kalimat menjadi kata-kata\n",
        "    sentence_words = nltk.word_tokenize(sentence)\n",
        "\n",
        "    # stemming atau mengubah kata menjadi bentuk dasarnya\n",
        "    sentence_words = [lemmatizer.lemmatize(word.lower()) for word in sentence_words]\n",
        "    return sentence_words"
      ]
    },
    {
      "cell_type": "code",
      "execution_count": 16,
      "metadata": {
        "id": "rATvfWqqMZxb"
      },
      "outputs": [],
      "source": [
        "# mengembalikan array bag of words dengan nilai 0 atau 1 untuk setiap kata dalam daftar kata (words) yang ada dalam kalimat (sentence).\n",
        "def bow(sentence, words, show_details=True):\n",
        "    # memanggil fungsi clean_up_sentence() untuk membersihkan kalimat.\n",
        "    sentence_words = clean_up_sentence(sentence)\n",
        "    # bag of words - matrix of N words, vocabuLary matrix\n",
        "    bag = [0]*len(words) \n",
        "    for s in sentence_words:\n",
        "        for i,w in enumerate(words):\n",
        "            if w == s: \n",
        "                bag[i] = 1\n",
        "                if show_details:\n",
        "                    print (\"found in bag: %s\" % w)\n",
        "    return(np.array(bag))"
      ]
    },
    {
      "cell_type": "code",
      "execution_count": 17,
      "metadata": {
        "id": "sql3RoZlMZxb"
      },
      "outputs": [],
      "source": [
        "\n",
        "# Memprediksi intent atau tujuan dari suatu kalimat atau input. \n",
        "def predict_class(sentence, model):\n",
        "    # Melakukan filter terhadap hasil prediksi yang probabilitasnya di bawah suatu threshold \n",
        "    p = bow(sentence, words,show_details=False)\n",
        "    res = model.predict(np.array([p]))[0]\n",
        "    error = 0.25\n",
        "    results = [[i,r] for i,r in enumerate(res) if r>error]\n",
        "    \n",
        "    # Mengurutkan berdasarkan nilai probabilitas\n",
        "    results.sort(key=lambda x: x[1], reverse=True)\n",
        "    return_list = []\n",
        "    \n",
        "    for r in results:\n",
        "        return_list.append({\"intent\": classes[r[0]], \"probability\": str(r[1])})\n",
        "    return return_list"
      ]
    },
    {
      "cell_type": "code",
      "execution_count": 18,
      "metadata": {
        "id": "mOF3brWeMZxb"
      },
      "outputs": [],
      "source": [
        "# Fungsi get untuk mendapatkan respon dari model\n",
        "\n",
        "def getResponse(ints, intents_json):\n",
        "    tag = ints[0]['intent']\n",
        "    list_of_intents = intents_json['intents']\n",
        "    for i in list_of_intents:\n",
        "        if(i['tag']== tag):\n",
        "            result = random.choice(i['responses'])\n",
        "            break\n",
        "    return result\n",
        "\n",
        "# Fungsi untuk memprediksi kelas dan mendapatkan respon\n",
        "\n",
        "def chatbot_response(text):\n",
        "    try:\n",
        "        ints = predict_class(text, model)\n",
        "        res = getResponse(ints, intents)\n",
        "    except:\n",
        "        res = \"Mas Joko : Maaf, saya tidak dapat memahami permintaan Anda. Mungkin Anda dapat mencoba menanyakan pertanyaan yang lebih spesifik atau menggunakan kata kunci yang berbeda untuk membantu saya memahami permintaan Anda dengan lebih baik.\"\n",
        "    return res\n"
      ]
    },
    {
      "cell_type": "code",
      "execution_count": 19,
      "metadata": {
        "id": "-t97PRBLMZxb"
      },
      "outputs": [],
      "source": [
        "# untuk memulai bot obrolan yang akan berlanjut hingga pengguna mengetik 'end'\n",
        "\n",
        "def start_chat():\n",
        "    print(\"Hai perkenalkan nama saya Mas Joko. \\nsaya bisa membantu anda untuk informasi tentang informasi yang ada di Yogyakarta. \\n\\n\")\n",
        "    while True:\n",
        "        inp = str(input()).lower()\n",
        "        if 'end' in inp.lower():\n",
        "            print(\"Mas Joko : Terima kasih telah menggunakan layanan kami. Sampai jumpa lagi!\")\n",
        "            break\n",
        "        if inp.lower()== '' or inp.lower()== '*':\n",
        "            print('Mas Joko : Anda belum tanya, ajukan pertanyaan dulu lah!')\n",
        "            print(\"-\"*50)\n",
        "        else:\n",
        "            print(f\"Mas Joko : {chatbot_response(inp)}\"+'\\n')\n",
        "            print(\"-\"*50)"
      ]
    },
    {
      "attachments": {},
      "cell_type": "markdown",
      "metadata": {},
      "source": [
        "# Memulai Chatbot"
      ]
    },
    {
      "cell_type": "code",
      "execution_count": 20,
      "metadata": {
        "id": "KX30MZArOxil"
      },
      "outputs": [],
      "source": [
        "# start_chat()"
      ]
    }
  ],
  "metadata": {
    "colab": {
      "provenance": []
    },
    "kernelspec": {
      "display_name": "chatbot_jogja",
      "language": "python",
      "name": "python3"
    },
    "language_info": {
      "codemirror_mode": {
        "name": "ipython",
        "version": 3
      },
      "file_extension": ".py",
      "mimetype": "text/x-python",
      "name": "python",
      "nbconvert_exporter": "python",
      "pygments_lexer": "ipython3",
      "version": "3.11.3"
    },
    "orig_nbformat": 4
  },
  "nbformat": 4,
  "nbformat_minor": 0
}
